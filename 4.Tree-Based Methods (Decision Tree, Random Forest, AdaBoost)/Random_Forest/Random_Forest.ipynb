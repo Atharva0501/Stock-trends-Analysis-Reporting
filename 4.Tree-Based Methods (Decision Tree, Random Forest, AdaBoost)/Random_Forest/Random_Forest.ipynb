{
  "nbformat": 4,
  "nbformat_minor": 0,
  "metadata": {
    "colab": {
      "provenance": []
    },
    "kernelspec": {
      "name": "python3",
      "display_name": "Python 3"
    },
    "language_info": {
      "name": "python"
    }
  },
  "cells": [
    {
      "cell_type": "code",
      "source": [
        "# Random Forest Classifier (CS-677 Assignment)\n",
        "# Upload 'Processed_Stock_Data.csv' and 'NVDA.csv' manually in Colab before running\n",
        "\n",
        "import pandas as pd\n",
        "from sklearn.ensemble import RandomForestClassifier\n",
        "from sklearn.metrics import accuracy_score, confusion_matrix\n",
        "\n",
        "# Load data\n",
        "stock_df = pd.read_csv(\"Processed_Stock_Data.csv\")\n",
        "stock_df['Label_Num'] = stock_df['Label'].map({'Green': 1, 'Red': 0})\n",
        "\n",
        "# Split train and test\n",
        "train_df = stock_df[stock_df['Year'].between(2020, 2022)]\n",
        "test_df = stock_df[stock_df['Year'].between(2023, 2024)]\n",
        "X_train = train_df[['mean_return', 'volatility']]\n",
        "y_train = train_df['Label_Num']\n",
        "X_test = test_df[['mean_return', 'volatility']]\n",
        "y_test = test_df['Label_Num']\n",
        "\n",
        "# Train Random Forest\n",
        "rf = RandomForestClassifier(random_state=42)\n",
        "rf.fit(X_train, y_train)\n",
        "y_pred = rf.predict(X_test)\n",
        "\n",
        "# Evaluate\n",
        "acc = accuracy_score(y_test, y_pred)\n",
        "cm = confusion_matrix(y_test, y_pred)\n",
        "tn, fp, fn, tp = cm.ravel()\n",
        "tpr = tp / (tp + fn)\n",
        "tnr = tn / (tn + fp)\n",
        "\n",
        "# Load NVDA prices for trading simulation\n",
        "nvda_df = pd.read_csv(\"NVDA.csv\")\n",
        "weekly_prices = nvda_df[nvda_df['Year'].between(2023, 2024)].groupby(['Year', 'Week_Number']).agg(\n",
        "    Open_Price=('Open', 'first'),\n",
        "    Close_Price=('Close', 'last')\n",
        ").reset_index()\n",
        "\n",
        "# Merge predictions with test set\n",
        "test_df = test_df.copy()\n",
        "test_df['RF_Pred'] = y_pred\n",
        "test_df = test_df.merge(weekly_prices, on=['Year', 'Week_Number'], how='left')\n",
        "\n",
        "# Simulate trading strategy\n",
        "def simulate_trading(df, label_col):\n",
        "    cash = 100\n",
        "    shares = 0\n",
        "    position = False\n",
        "    for _, row in df.iterrows():\n",
        "        label = row[label_col]\n",
        "        open_price = row['Open_Price']\n",
        "        close_price = row['Close_Price']\n",
        "        if pd.isna(open_price) or pd.isna(close_price):\n",
        "            continue\n",
        "        if not position and label == 1:\n",
        "            shares = cash / open_price\n",
        "            cash = 0\n",
        "            position = True\n",
        "        elif position and label == 0:\n",
        "            cash = shares * close_price\n",
        "            shares = 0\n",
        "            position = False\n",
        "    return round(cash + (shares * close_price if position else 0), 2)\n",
        "\n",
        "# Final portfolio value using Random Forest strategy\n",
        "rf_strategy_value = simulate_trading(test_df, 'RF_Pred')\n",
        "\n",
        "# Buy-and-Hold strategy\n",
        "initial_open = test_df.iloc[0]['Open_Price']\n",
        "final_close = test_df.iloc[-1]['Close_Price']\n",
        "buy_hold_value = round((100 / initial_open) * final_close, 2)\n",
        "\n",
        "# Summary\n",
        "print(\"Accuracy:\", round(acc * 100, 2), \"%\")\n",
        "print(\"Confusion Matrix:\", cm.tolist())\n",
        "print(\"TPR:\", round(tpr * 100, 2), \"%\")\n",
        "print(\"TNR:\", round(tnr * 100, 2), \"%\")\n",
        "print(\"Random Forest Strategy Value:\", rf_strategy_value)\n",
        "print(\"Buy-and-Hold Strategy Value:\", buy_hold_value)\n"
      ],
      "metadata": {
        "colab": {
          "base_uri": "https://localhost:8080/"
        },
        "id": "Y9oDZUuRs4vT",
        "outputId": "2cd5f498-24c8-477c-abda-4d6b034e8f58"
      },
      "execution_count": 5,
      "outputs": [
        {
          "output_type": "stream",
          "name": "stdout",
          "text": [
            "Accuracy: 99.05 %\n",
            "Confusion Matrix: [[58, 1], [0, 46]]\n",
            "TPR: 100.0 %\n",
            "TNR: 98.31 %\n",
            "Random Forest Strategy Value: 1042.7\n",
            "Buy-and-Hold Strategy Value: 925.86\n"
          ]
        }
      ]
    }
  ]
}